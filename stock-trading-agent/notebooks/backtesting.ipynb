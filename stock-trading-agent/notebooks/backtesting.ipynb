{
 "cells": [
  {
   "cell_type": "markdown",
   "metadata": {},
   "source": [
    "# Backtesting Trading Strategies\n",
    "\n",
    "This notebook is designed to backtest trading strategies using historical data. The goal is to evaluate the performance of different strategies and understand their potential profitability."
   ]
  },
  {
   "cell_type": "code",
   "execution_count": 2,
   "metadata": {},
   "outputs": [
    {
     "ename": "ModuleNotFoundError",
     "evalue": "No module named 'trading_agent'",
     "output_type": "error",
     "traceback": [
      "\u001b[31m---------------------------------------------------------------------------\u001b[39m",
      "\u001b[31mModuleNotFoundError\u001b[39m                       Traceback (most recent call last)",
      "\u001b[36mCell\u001b[39m\u001b[36m \u001b[39m\u001b[32mIn[2]\u001b[39m\u001b[32m, line 5\u001b[39m\n\u001b[32m      3\u001b[39m \u001b[38;5;28;01mimport\u001b[39;00m\u001b[38;5;250m \u001b[39m\u001b[34;01mnumpy\u001b[39;00m\u001b[38;5;250m \u001b[39m\u001b[38;5;28;01mas\u001b[39;00m\u001b[38;5;250m \u001b[39m\u001b[34;01mnp\u001b[39;00m\n\u001b[32m      4\u001b[39m \u001b[38;5;28;01mimport\u001b[39;00m\u001b[38;5;250m \u001b[39m\u001b[34;01mmatplotlib\u001b[39;00m\u001b[34;01m.\u001b[39;00m\u001b[34;01mpyplot\u001b[39;00m\u001b[38;5;250m \u001b[39m\u001b[38;5;28;01mas\u001b[39;00m\u001b[38;5;250m \u001b[39m\u001b[34;01mplt\u001b[39;00m\n\u001b[32m----> \u001b[39m\u001b[32m5\u001b[39m \u001b[38;5;28;01mfrom\u001b[39;00m\u001b[38;5;250m \u001b[39m\u001b[34;01mtrading_agent\u001b[39;00m\u001b[34;01m.\u001b[39;00m\u001b[34;01mdata_ingestion\u001b[39;00m\u001b[34;01m.\u001b[39;00m\u001b[34;01mhistorical_data\u001b[39;00m\u001b[38;5;250m \u001b[39m\u001b[38;5;28;01mimport\u001b[39;00m fetch_historical_data\n\u001b[32m      6\u001b[39m \u001b[38;5;28;01mfrom\u001b[39;00m\u001b[38;5;250m \u001b[39m\u001b[34;01mtrading_agent\u001b[39;00m\u001b[34;01m.\u001b[39;00m\u001b[34;01mmodels\u001b[39;00m\u001b[34;01m.\u001b[39;00m\u001b[34;01mevaluate\u001b[39;00m\u001b[38;5;250m \u001b[39m\u001b[38;5;28;01mimport\u001b[39;00m evaluate_strategy\n\u001b[32m      8\u001b[39m \u001b[38;5;66;03m# Load historical data\u001b[39;00m\n",
      "\u001b[31mModuleNotFoundError\u001b[39m: No module named 'trading_agent'"
     ]
    }
   ],
   "source": [
    "# Import necessary libraries\n",
    "import pandas as pd\n",
    "import numpy as np\n",
    "import matplotlib.pyplot as plt\n",
    "from stock_trading_agent.data_ingestion.historical_data import fetch_historical_data\n",
    "from trading_agent.models.evaluate import evaluate_strategy\n",
    "\n",
    "# Load historical data\n",
    "def load_data(symbol, start_date, end_date):\n",
    "    data = fetch_historical_data(symbol, start_date, end_date)\n",
    "    return data\n",
    "\n",
    "# Define trading strategy\n",
    "def simple_moving_average_strategy(data, short_window=40, long_window=100):\n",
    "    signals = pd.DataFrame(index=data.index)\n",
    "    signals['price'] = data['close']\n",
    "    signals['short_mavg'] = data['close'].rolling(window=short_window, min_periods=1).mean()\n",
    "    signals['long_mavg'] = data['close'].rolling(window=long_window, min_periods=1).mean()\n",
    "    signals['signal'] = 0.0\n",
    "    signals['signal'][short_window:] = np.where(signals['short_mavg'][short_window:] > signals['long_mavg'][short_window:], 1.0, 0.0)\n",
    "    signals['positions'] = signals['signal'].diff()\n",
    "    return signals\n",
    "\n",
    "# Backtest the strategy\n",
    "def backtest(symbol, start_date, end_date):\n",
    "    data = load_data(symbol, start_date, end_date)\n",
    "    signals = simple_moving_average_strategy(data)\n",
    "    performance = evaluate_strategy(signals, data)\n",
    "    return performance\n",
    "\n",
    "# Example usage\n",
    "if __name__ == '__main__':\n",
    "    symbol = 'AAPL'\n",
    "    start_date = '2020-01-01'\n",
    "    end_date = '2021-01-01'\n",
    "    performance = backtest(symbol, start_date, end_date)\n",
    "    print(performance)\n"
   ]
  },
  {
   "cell_type": "code",
   "execution_count": null,
   "metadata": {},
   "outputs": [],
   "source": []
  }
 ],
 "metadata": {
  "kernelspec": {
   "display_name": "Python 3 (ipykernel)",
   "language": "python",
   "name": "python3"
  },
  "language_info": {
   "codemirror_mode": {
    "name": "ipython",
    "version": 3
   },
   "file_extension": ".py",
   "mimetype": "text/x-python",
   "name": "python",
   "nbconvert_exporter": "python",
   "pygments_lexer": "ipython3",
   "version": "3.13.2"
  }
 },
 "nbformat": 4,
 "nbformat_minor": 4
}
