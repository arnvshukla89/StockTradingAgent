{
 "cells": [
  {
   "cell_type": "code",
   "execution_count": 4,
   "id": "9209396e-3171-43fc-8d6e-6676ae987eee",
   "metadata": {},
   "outputs": [
    {
     "ename": "KeyError",
     "evalue": "'text'",
     "output_type": "error",
     "traceback": [
      "\u001b[31m---------------------------------------------------------------------------\u001b[39m",
      "\u001b[31mKeyError\u001b[39m                                  Traceback (most recent call last)",
      "\u001b[36mCell\u001b[39m\u001b[36m \u001b[39m\u001b[32mIn[4]\u001b[39m\u001b[32m, line 24\u001b[39m\n\u001b[32m     20\u001b[39m         \u001b[38;5;28;01mfor\u001b[39;00m message \u001b[38;5;129;01min\u001b[39;00m slack_data:\n\u001b[32m     21\u001b[39m             \u001b[38;5;28;01mif\u001b[39;00m \u001b[33m'\u001b[39m\u001b[33mreplies\u001b[39m\u001b[33m'\u001b[39m \u001b[38;5;129;01min\u001b[39;00m message:  \u001b[38;5;66;03m# Only process messages with replies\u001b[39;00m\n\u001b[32m     22\u001b[39m                 merged_data.append({\n\u001b[32m     23\u001b[39m                     \u001b[33m'\u001b[39m\u001b[33mquery\u001b[39m\u001b[33m'\u001b[39m: message[\u001b[33m'\u001b[39m\u001b[33mtext\u001b[39m\u001b[33m'\u001b[39m],\n\u001b[32m---> \u001b[39m\u001b[32m24\u001b[39m                     \u001b[33m'\u001b[39m\u001b[33manswers\u001b[39m\u001b[33m'\u001b[39m: [\u001b[43mreply\u001b[49m\u001b[43m[\u001b[49m\u001b[33;43m'\u001b[39;49m\u001b[33;43mtext\u001b[39;49m\u001b[33;43m'\u001b[39;49m\u001b[43m]\u001b[49m \u001b[38;5;28;01mfor\u001b[39;00m reply \u001b[38;5;129;01min\u001b[39;00m message[\u001b[33m'\u001b[39m\u001b[33mreplies\u001b[39m\u001b[33m'\u001b[39m]],  \u001b[38;5;66;03m# All replies\u001b[39;00m\n\u001b[32m     25\u001b[39m                     \u001b[33m'\u001b[39m\u001b[33mtimestamp\u001b[39m\u001b[33m'\u001b[39m: message[\u001b[33m'\u001b[39m\u001b[33mts\u001b[39m\u001b[33m'\u001b[39m],\n\u001b[32m     26\u001b[39m                     \u001b[33m'\u001b[39m\u001b[33mdate\u001b[39m\u001b[33m'\u001b[39m: datetime.utcfromtimestamp(\u001b[38;5;28mfloat\u001b[39m(message[\u001b[33m'\u001b[39m\u001b[33mts\u001b[39m\u001b[33m'\u001b[39m].split(\u001b[33m'\u001b[39m\u001b[33m.\u001b[39m\u001b[33m'\u001b[39m)[\u001b[32m0\u001b[39m])).strftime(\u001b[33m'\u001b[39m\u001b[33m%\u001b[39m\u001b[33mY-\u001b[39m\u001b[33m%\u001b[39m\u001b[33mm-\u001b[39m\u001b[38;5;132;01m%d\u001b[39;00m\u001b[33m'\u001b[39m),\n\u001b[32m     27\u001b[39m                     \u001b[33m'\u001b[39m\u001b[33msource_file\u001b[39m\u001b[33m'\u001b[39m: os.path.basename(file_path)  \u001b[38;5;66;03m# Track which file it came from\u001b[39;00m\n\u001b[32m     28\u001b[39m                 })\n\u001b[32m     29\u001b[39m \u001b[38;5;28;01mexcept\u001b[39;00m (json.JSONDecodeError, \u001b[38;5;167;01mOSError\u001b[39;00m) \u001b[38;5;28;01mas\u001b[39;00m e:\n\u001b[32m     30\u001b[39m     \u001b[38;5;28mprint\u001b[39m(\u001b[33mf\u001b[39m\u001b[33m\"\u001b[39m\u001b[33mError processing file \u001b[39m\u001b[38;5;132;01m{\u001b[39;00mfile_path\u001b[38;5;132;01m}\u001b[39;00m\u001b[33m: \u001b[39m\u001b[38;5;132;01m{\u001b[39;00me\u001b[38;5;132;01m}\u001b[39;00m\u001b[33m\"\u001b[39m)\n",
      "\u001b[31mKeyError\u001b[39m: 'text'"
     ]
    }
   ],
   "source": [
    "import json\n",
    "import os\n",
    "import glob\n",
    "from datetime import datetime\n",
    "\n",
    "# Directory containing all Slack JSON files\n",
    "json_folder = \"/Users/shukla03/Downloads/help-reverb\" \n",
    "merged_data = []\n",
    "\n",
    "# Check if the directory exists\n",
    "if not os.path.exists(json_folder):\n",
    "    raise FileNotFoundError(f\"The directory {json_folder} does not exist.\")\n",
    "\n",
    "# Loop through all JSON files in the folder\n",
    "for file_path in glob.glob(os.path.join(json_folder, \"*.json\")):\n",
    "    try:\n",
    "        with open(file_path, \"r\", encoding=\"utf-8\") as file:\n",
    "            slack_data = json.load(file)\n",
    "\n",
    "            for message in slack_data:\n",
    "                if 'replies' in message:  # Only process messages with replies\n",
    "                    merged_data.append({\n",
    "                        'query': message['text'],\n",
    "                        'answers': [reply['text'] for reply in message['replies']],  # All replies\n",
    "                        'timestamp': message['ts'],\n",
    "                        'date': datetime.utcfromtimestamp(float(message['ts'].split('.')[0])).strftime('%Y-%m-%d'),\n",
    "                        'source_file': os.path.basename(file_path)  # Track which file it came from\n",
    "                    })\n",
    "    except (json.JSONDecodeError, OSError) as e:\n",
    "        print(f\"Error processing file {file_path}: {e}\")\n",
    "\n",
    "# Sort data by timestamp (oldest to newest)\n",
    "merged_data.sort(key=lambda x: x['timestamp'])\n",
    "\n",
    "# Save as a combined JSON file\n",
    "try:\n",
    "    with open(\"merged_slack_data.json\", \"w\", encoding=\"utf-8\") as output_file:\n",
    "        json.dump(merged_data, output_file, indent=4)\n",
    "    print(\"Merged Slack data saved to merged_slack_data.json\")\n",
    "except OSError as e:\n",
    "    print(f\"Error saving merged data: {e}\")"
   ]
  },
  {
   "cell_type": "code",
   "execution_count": null,
   "id": "276b5d07-e0d9-45ad-b19b-2657f5afa870",
   "metadata": {},
   "outputs": [],
   "source": []
  }
 ],
 "metadata": {
  "kernelspec": {
   "display_name": "Python 3 (ipykernel)",
   "language": "python",
   "name": "python3"
  },
  "language_info": {
   "codemirror_mode": {
    "name": "ipython",
    "version": 3
   },
   "file_extension": ".py",
   "mimetype": "text/x-python",
   "name": "python",
   "nbconvert_exporter": "python",
   "pygments_lexer": "ipython3",
   "version": "3.13.2"
  }
 },
 "nbformat": 4,
 "nbformat_minor": 5
}
