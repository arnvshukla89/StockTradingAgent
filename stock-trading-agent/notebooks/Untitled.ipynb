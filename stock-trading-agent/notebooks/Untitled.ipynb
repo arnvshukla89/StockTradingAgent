{
 "cells": [
  {
   "cell_type": "code",
   "execution_count": 4,
   "id": "8b7744c6-5792-4964-a8e7-bef129b71650",
   "metadata": {},
   "outputs": [
    {
     "ename": "ImportError",
     "evalue": "cannot import name 'RESTClient' from 'polygon' (/Users/shukla03/Library/Caches/pypoetry/virtualenvs/stock-trading-agent-4e92X3xZ-py3.13/lib/python3.13/site-packages/polygon/__init__.py)",
     "output_type": "error",
     "traceback": [
      "\u001b[31m---------------------------------------------------------------------------\u001b[39m",
      "\u001b[31mImportError\u001b[39m                               Traceback (most recent call last)",
      "\u001b[36mCell\u001b[39m\u001b[36m \u001b[39m\u001b[32mIn[4]\u001b[39m\u001b[32m, line 1\u001b[39m\n\u001b[32m----> \u001b[39m\u001b[32m1\u001b[39m \u001b[38;5;28;01mfrom\u001b[39;00m\u001b[38;5;250m \u001b[39m\u001b[34;01mstock_trading_agent\u001b[39;00m\u001b[34;01m.\u001b[39;00m\u001b[34;01mdata_ingestion\u001b[39;00m\u001b[34;01m.\u001b[39;00m\u001b[34;01mhistorical_data\u001b[39;00m\u001b[38;5;250m \u001b[39m\u001b[38;5;28;01mimport\u001b[39;00m HistoricalData\n\u001b[32m      3\u001b[39m \u001b[38;5;66;03m# Define the variables\u001b[39;00m\n\u001b[32m      4\u001b[39m ticker = \u001b[33m\"\u001b[39m\u001b[33mAAPL\u001b[39m\u001b[33m\"\u001b[39m  \u001b[38;5;66;03m# Example ticker\u001b[39;00m\n",
      "\u001b[36mFile \u001b[39m\u001b[32m~/Developer/MLLearning/stock-trading-agent/src/stock_trading_agent/data_ingestion/historical_data.py:2\u001b[39m\n\u001b[32m      1\u001b[39m \u001b[38;5;28;01mimport\u001b[39;00m\u001b[38;5;250m \u001b[39m\u001b[34;01mpandas\u001b[39;00m\u001b[38;5;250m \u001b[39m\u001b[38;5;28;01mas\u001b[39;00m\u001b[38;5;250m \u001b[39m\u001b[34;01mpd\u001b[39;00m\n\u001b[32m----> \u001b[39m\u001b[32m2\u001b[39m \u001b[38;5;28;01mfrom\u001b[39;00m\u001b[38;5;250m \u001b[39m\u001b[34;01mpolygon\u001b[39;00m\u001b[38;5;250m \u001b[39m\u001b[38;5;28;01mimport\u001b[39;00m RESTClient\n\u001b[32m      3\u001b[39m \u001b[38;5;28;01mfrom\u001b[39;00m\u001b[38;5;250m \u001b[39m\u001b[34;01mpolygon\u001b[39;00m\u001b[34;01m.\u001b[39;00m\u001b[34;01mexceptions\u001b[39;00m\u001b[38;5;250m \u001b[39m\u001b[38;5;28;01mimport\u001b[39;00m ResponseError\n\u001b[32m      4\u001b[39m \u001b[38;5;28;01mfrom\u001b[39;00m\u001b[38;5;250m \u001b[39m\u001b[34;01mdatetime\u001b[39;00m\u001b[38;5;250m \u001b[39m\u001b[38;5;28;01mimport\u001b[39;00m datetime\n",
      "\u001b[31mImportError\u001b[39m: cannot import name 'RESTClient' from 'polygon' (/Users/shukla03/Library/Caches/pypoetry/virtualenvs/stock-trading-agent-4e92X3xZ-py3.13/lib/python3.13/site-packages/polygon/__init__.py)"
     ]
    }
   ],
   "source": [
    "from stock_trading_agent.data_ingestion.historical_data import HistoricalData\n",
    "\n",
    "# Define the variables\n",
    "ticker = \"AAPL\"  # Example ticker\n",
    "start_date = \"2023-03-21\"  # Example start date\n",
    "end_date = \"2025-03-21\"  # Example end date\n",
    "\n",
    "# Create an instance of HistoricalData and get the historical data\n",
    "historical_data = HistoricalData(ticker, start_date, end_date)\n",
    "data = historical_data.get_historical_data()\n",
    "\n",
    "# Display the data\n",
    "print(data)\n"
   ]
  },
  {
   "cell_type": "code",
   "execution_count": null,
   "id": "c349e057-061e-455a-b863-a6fae631a412",
   "metadata": {},
   "outputs": [
    {
     "name": "stdout",
     "output_type": "stream",
     "text": [
      "Ticker.Apple_Inc\n",
      "Ticker.Microsoft_Corporation\n",
      "Ticker.Amazon_com_Inc\n",
      "Ticker.Facebook_Inc\n",
      "Ticker.Alphabet_Inc_Class_C\n",
      "Waiting for ~ 1 minute to respect API rate limit...\n"
     ]
    }
   ],
   "source": [
    "import pandas as pd\n",
    "from stock_trading_agent.enums.ticker import Ticker\n",
    "from stock_trading_agent.data_ingestion.historical_data import HistoricalData\n",
    "import os\n",
    "import time\n",
    "\n",
    "start_date = \"2023-03-21\"\n",
    "end_date = \"2025-03-21\"\n",
    "\n",
    "all_data = []\n",
    "\n",
    "for ticker in Ticker:\n",
    "    print(ticker)\n",
    "    historical_data = HistoricalData(ticker.value, start_date, end_date)\n",
    "    data = historical_data.get_historical_data()\n",
    "    all_data.append(data)\n",
    "\n",
    "combined_data = pd.concat(all_data)\n",
    "base_dir = os.path.abspath(os.path.join(os.getcwd(), \"../data/raw\"))\n",
    "os.makedirs(base_dir, exist_ok=True) \n",
    "file_path = os.path.join(base_dir, \"all_tickers_data.parquet\")\n",
    "combined_data.to_parquet(file_path, compression='snappy')"
   ]
  },
  {
   "cell_type": "code",
   "execution_count": null,
   "id": "0551b5a7",
   "metadata": {},
   "outputs": [],
   "source": [
    "import pandas as pd\n",
    "import os\n",
    "import time\n",
    "from stock_trading_agent.enums.ticker import Ticker\n",
    "from stock_trading_agent.data_ingestion.historical_data import HistoricalData\n",
    "from polygon.exceptions import ResponseError\n",
    "\n",
    "# Define start and end dates for the historical data\n",
    "start_date = \"2023-03-21\"\n",
    "end_date = \"2025-03-21\"\n",
    "\n",
    "# This will hold all the data from each ticker\n",
    "all_data = []\n",
    "\n",
    "# Maximum number of retries if rate-limited\n",
    "max_retries = 5\n",
    "# Initial wait time (in seconds) for backoff\n",
    "wait_time = 5\n",
    "\n",
    "def fetch_data_with_retry(ticker, retries=max_retries, wait_time=wait_time):\n",
    "    \"\"\"Fetch historical data for a ticker with exponential backoff in case of rate limit errors.\"\"\"\n",
    "    for attempt in range(retries):\n",
    "        try:\n",
    "            # Initialize HistoricalData object\n",
    "            historical_data = HistoricalData(ticker.value, start_date, end_date)\n",
    "            # Fetch the data\n",
    "            data = historical_data.get_historical_data()\n",
    "            return data\n",
    "        except ResponseError as e:\n",
    "            if e.response.status_code == 429:  # Handle 429: Too Many Requests (rate limit)\n",
    "                print(f\"Rate limit hit for {ticker}. Retrying in {wait_time} seconds...\")\n",
    "                time.sleep(wait_time)  # Wait before retrying\n",
    "                wait_time *= 2  # Exponential backoff (double the wait time)\n",
    "            else:\n",
    "                print(f\"Unexpected error while fetching data for {ticker}: {e}\")\n",
    "                break  # Break if it's not a rate limit issue\n",
    "    print(f\"Max retries reached for {ticker}. Skipping.\")\n",
    "    return None  # Return None if max retries are reached\n",
    "\n",
    "# Iterate over each ticker and fetch its data\n",
    "for ticker in Ticker:\n",
    "    print(f\"Fetching data for {ticker}\")\n",
    "    data = fetch_data_with_retry(ticker)\n",
    "    \n",
    "    if data is not None:\n",
    "        all_data.append(data)\n",
    "    else:\n",
    "        print(f\"Skipping {ticker} due to failure to fetch data.\")\n",
    "\n",
    "# Combine all data into a single DataFrame\n",
    "if all_data:\n",
    "    combined_data = pd.concat(all_data)\n",
    "else:\n",
    "    print(\"No data was fetched. Exiting.\")\n",
    "    exit()\n",
    "\n",
    "# Save the combined data to a Parquet file\n",
    "base_dir = os.path.abspath(os.path.join(os.getcwd(), \"../data/raw\"))\n",
    "os.makedirs(base_dir, exist_ok=True)  # Create directory if it doesn't exist\n",
    "file_path = os.path.join(base_dir, \"all_tickers_data.parquet\")\n",
    "combined_data.to_parquet(file_path, compression='snappy')\n",
    "\n",
    "print(f\"Data saved to {file_path}\")\n"
   ]
  },
  {
   "cell_type": "code",
   "execution_count": 11,
   "id": "e1b39d9d-b922-4343-a2bf-ad3c0142897b",
   "metadata": {},
   "outputs": [
    {
     "name": "stdout",
     "output_type": "stream",
     "text": [
      "     open    high      low   close      volume      vwap     timestamp  \\\n",
      "0  158.86  160.34  157.850  160.25  59006343.0  159.2417  1.679630e+12   \n",
      "1  159.94  160.77  157.870  158.28  52390266.0  159.0188  1.679890e+12   \n",
      "2  157.97  158.49  155.980  157.65  45992152.0  156.9785  1.679976e+12   \n",
      "3  159.37  161.05  159.350  160.77  51305691.0  160.2160  1.680062e+12   \n",
      "4  161.53  162.47  161.271  162.36  49210289.0  162.0209  1.680149e+12   \n",
      "\n",
      "   transactions   otc ticker  \n",
      "0      517531.0  None   AAPL  \n",
      "1      518436.0  None   AAPL  \n",
      "2      432447.0  None   AAPL  \n",
      "3      472077.0  None   AAPL  \n",
      "4      456152.0  None   AAPL  \n"
     ]
    }
   ],
   "source": [
    "import pandas as pd\n",
    "\n",
    "# Define the file path\n",
    "file_path = '/Users/shukla03/Developer/MLLearning/stock-trading-agent/data/raw/all_tickers_data.parquet'\n",
    "\n",
    "# Read the Parquet file\n",
    "df = pd.read_parquet(file_path, engine='pyarrow')  # or engine='fastparquet' if you prefer that\n",
    "\n",
    "# Display the DataFrame\n",
    "print(df.head())  # Display the first few rows of the DataFrame\n"
   ]
  },
  {
   "cell_type": "code",
   "execution_count": null,
   "id": "9c35c773-a66b-4776-9409-6293a9225114",
   "metadata": {},
   "outputs": [],
   "source": []
  }
 ],
 "metadata": {
  "kernelspec": {
   "display_name": "Python 3 (ipykernel)",
   "language": "python",
   "name": "python3"
  },
  "language_info": {
   "codemirror_mode": {
    "name": "ipython",
    "version": 3
   },
   "file_extension": ".py",
   "mimetype": "text/x-python",
   "name": "python",
   "nbconvert_exporter": "python",
   "pygments_lexer": "ipython3",
   "version": "3.13.2"
  }
 },
 "nbformat": 4,
 "nbformat_minor": 5
}
